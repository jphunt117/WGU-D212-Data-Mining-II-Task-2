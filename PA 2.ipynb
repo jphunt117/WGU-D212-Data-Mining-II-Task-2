{
 "cells": [
  {
   "cell_type": "code",
   "execution_count": 1,
   "id": "04c06e71-f610-49b3-b814-62c32247bf1c",
   "metadata": {
    "tags": []
   },
   "outputs": [],
   "source": [
    "import pandas as pd\n",
    "import numpy as np\n",
    "\n",
    "import matplotlib.pyplot as plt\n",
    "import seaborn as sns\n",
    "\n",
    "from sklearn.decomposition import PCA\n",
    "from sklearn.preprocessing import StandardScaler"
   ]
  },
  {
   "cell_type": "code",
   "execution_count": 2,
   "id": "88790484-d269-4e11-b717-6c64d2c750ea",
   "metadata": {
    "tags": []
   },
   "outputs": [
    {
     "data": {
      "text/html": [
       "<div>\n",
       "<style scoped>\n",
       "    .dataframe tbody tr th:only-of-type {\n",
       "        vertical-align: middle;\n",
       "    }\n",
       "\n",
       "    .dataframe tbody tr th {\n",
       "        vertical-align: top;\n",
       "    }\n",
       "\n",
       "    .dataframe thead th {\n",
       "        text-align: right;\n",
       "    }\n",
       "</style>\n",
       "<table border=\"1\" class=\"dataframe\">\n",
       "  <thead>\n",
       "    <tr style=\"text-align: right;\">\n",
       "      <th></th>\n",
       "      <th>Population</th>\n",
       "      <th>Children</th>\n",
       "      <th>Age</th>\n",
       "      <th>Income</th>\n",
       "      <th>Outage_sec_perweek</th>\n",
       "      <th>Email</th>\n",
       "      <th>Contacts</th>\n",
       "      <th>Yearly_equip_failure</th>\n",
       "      <th>Tenure</th>\n",
       "      <th>MonthlyCharge</th>\n",
       "      <th>Bandwidth_GB_Year</th>\n",
       "    </tr>\n",
       "  </thead>\n",
       "  <tbody>\n",
       "    <tr>\n",
       "      <th>0</th>\n",
       "      <td>-0.673405</td>\n",
       "      <td>-0.972338</td>\n",
       "      <td>0.720925</td>\n",
       "      <td>-0.398778</td>\n",
       "      <td>-0.679978</td>\n",
       "      <td>-0.666282</td>\n",
       "      <td>-1.005852</td>\n",
       "      <td>0.946658</td>\n",
       "      <td>-1.048746</td>\n",
       "      <td>-0.003943</td>\n",
       "      <td>-1.138487</td>\n",
       "    </tr>\n",
       "    <tr>\n",
       "      <th>1</th>\n",
       "      <td>0.047772</td>\n",
       "      <td>-0.506592</td>\n",
       "      <td>-1.259957</td>\n",
       "      <td>-0.641954</td>\n",
       "      <td>0.570331</td>\n",
       "      <td>-0.005288</td>\n",
       "      <td>-1.005852</td>\n",
       "      <td>0.946658</td>\n",
       "      <td>-1.262001</td>\n",
       "      <td>1.630326</td>\n",
       "      <td>-1.185876</td>\n",
       "    </tr>\n",
       "    <tr>\n",
       "      <th>2</th>\n",
       "      <td>-0.417238</td>\n",
       "      <td>0.890646</td>\n",
       "      <td>-0.148730</td>\n",
       "      <td>-1.070885</td>\n",
       "      <td>0.252347</td>\n",
       "      <td>-0.996779</td>\n",
       "      <td>-1.005852</td>\n",
       "      <td>0.946658</td>\n",
       "      <td>-0.709940</td>\n",
       "      <td>-0.295225</td>\n",
       "      <td>-0.612138</td>\n",
       "    </tr>\n",
       "    <tr>\n",
       "      <th>3</th>\n",
       "      <td>0.284537</td>\n",
       "      <td>-0.506592</td>\n",
       "      <td>-0.245359</td>\n",
       "      <td>-0.740525</td>\n",
       "      <td>1.650506</td>\n",
       "      <td>0.986203</td>\n",
       "      <td>1.017588</td>\n",
       "      <td>-0.625864</td>\n",
       "      <td>-0.659524</td>\n",
       "      <td>-1.226521</td>\n",
       "      <td>-0.561857</td>\n",
       "    </tr>\n",
       "    <tr>\n",
       "      <th>4</th>\n",
       "      <td>0.110549</td>\n",
       "      <td>-0.972338</td>\n",
       "      <td>1.445638</td>\n",
       "      <td>0.009478</td>\n",
       "      <td>-0.623156</td>\n",
       "      <td>1.316700</td>\n",
       "      <td>1.017588</td>\n",
       "      <td>0.946658</td>\n",
       "      <td>-1.242551</td>\n",
       "      <td>-0.528086</td>\n",
       "      <td>-1.428184</td>\n",
       "    </tr>\n",
       "  </tbody>\n",
       "</table>\n",
       "</div>"
      ],
      "text/plain": [
       "   Population  Children       Age    Income  Outage_sec_perweek     Email  \\\n",
       "0   -0.673405 -0.972338  0.720925 -0.398778           -0.679978 -0.666282   \n",
       "1    0.047772 -0.506592 -1.259957 -0.641954            0.570331 -0.005288   \n",
       "2   -0.417238  0.890646 -0.148730 -1.070885            0.252347 -0.996779   \n",
       "3    0.284537 -0.506592 -0.245359 -0.740525            1.650506  0.986203   \n",
       "4    0.110549 -0.972338  1.445638  0.009478           -0.623156  1.316700   \n",
       "\n",
       "   Contacts  Yearly_equip_failure    Tenure  MonthlyCharge  Bandwidth_GB_Year  \n",
       "0 -1.005852              0.946658 -1.048746      -0.003943          -1.138487  \n",
       "1 -1.005852              0.946658 -1.262001       1.630326          -1.185876  \n",
       "2 -1.005852              0.946658 -0.709940      -0.295225          -0.612138  \n",
       "3  1.017588             -0.625864 -0.659524      -1.226521          -0.561857  \n",
       "4  1.017588              0.946658 -1.242551      -0.528086          -1.428184  "
      ]
     },
     "execution_count": 2,
     "metadata": {},
     "output_type": "execute_result"
    }
   ],
   "source": [
    "df = pd.read_csv('churn_prepared.csv')\n",
    "df.head()"
   ]
  },
  {
   "cell_type": "code",
   "execution_count": 3,
   "id": "30ee9819-1a7a-4a8f-b328-e9a8e77a4bff",
   "metadata": {
    "tags": []
   },
   "outputs": [],
   "source": [
    "model = PCA(n_components = 11)\n",
    "outcomes = model.fit_transform(df)"
   ]
  },
  {
   "cell_type": "code",
   "execution_count": 4,
   "id": "4c8f000f-0686-41e7-af4d-0c7b497d2ce6",
   "metadata": {
    "tags": []
   },
   "outputs": [
    {
     "data": {
      "text/plain": [
       "array([[-1.53263903,  0.1195116 , -1.56211627, ..., -0.52762681,\n",
       "         0.04565657, -0.02662184],\n",
       "       [-1.6590187 ,  0.13053906,  0.63830102, ..., -0.82666911,\n",
       "         1.30270444, -0.03835973],\n",
       "       [-0.90052198,  1.19140244, -0.19308126, ...,  0.46644858,\n",
       "        -0.29764917,  0.06082489],\n",
       "       ...,\n",
       "       [ 0.57881342,  0.79930524, -0.69355949, ..., -0.30391372,\n",
       "         0.03266952, -0.08694925],\n",
       "       [ 2.00278069, -1.5898536 ,  1.86008106, ..., -0.03906511,\n",
       "         1.04576718, -0.06939983],\n",
       "       [ 1.5517672 , -0.89884365,  2.1121719 , ..., -0.7902225 ,\n",
       "         0.92758662, -0.03382088]])"
      ]
     },
     "execution_count": 4,
     "metadata": {},
     "output_type": "execute_result"
    }
   ],
   "source": [
    "outcomes"
   ]
  },
  {
   "cell_type": "code",
   "execution_count": 5,
   "id": "e632f4cd-398e-4598-8df3-34f3c40831e8",
   "metadata": {
    "tags": []
   },
   "outputs": [
    {
     "data": {
      "text/html": [
       "<div>\n",
       "<style scoped>\n",
       "    .dataframe tbody tr th:only-of-type {\n",
       "        vertical-align: middle;\n",
       "    }\n",
       "\n",
       "    .dataframe tbody tr th {\n",
       "        vertical-align: top;\n",
       "    }\n",
       "\n",
       "    .dataframe thead th {\n",
       "        text-align: right;\n",
       "    }\n",
       "</style>\n",
       "<table border=\"1\" class=\"dataframe\">\n",
       "  <thead>\n",
       "    <tr style=\"text-align: right;\">\n",
       "      <th></th>\n",
       "      <th>PC1</th>\n",
       "      <th>PC2</th>\n",
       "      <th>PC3</th>\n",
       "      <th>PC4</th>\n",
       "      <th>PC5</th>\n",
       "      <th>PC6</th>\n",
       "      <th>PC7</th>\n",
       "      <th>PC8</th>\n",
       "      <th>PC9</th>\n",
       "      <th>PC10</th>\n",
       "      <th>PC11</th>\n",
       "    </tr>\n",
       "  </thead>\n",
       "  <tbody>\n",
       "    <tr>\n",
       "      <th>0</th>\n",
       "      <td>-1.532639</td>\n",
       "      <td>0.119512</td>\n",
       "      <td>-1.562116</td>\n",
       "      <td>0.136206</td>\n",
       "      <td>0.414997</td>\n",
       "      <td>-1.399578</td>\n",
       "      <td>0.191106</td>\n",
       "      <td>-0.130913</td>\n",
       "      <td>-0.527627</td>\n",
       "      <td>0.045657</td>\n",
       "      <td>-0.026622</td>\n",
       "    </tr>\n",
       "    <tr>\n",
       "      <th>1</th>\n",
       "      <td>-1.659019</td>\n",
       "      <td>0.130539</td>\n",
       "      <td>0.638301</td>\n",
       "      <td>-1.375658</td>\n",
       "      <td>0.723705</td>\n",
       "      <td>-1.271899</td>\n",
       "      <td>0.575596</td>\n",
       "      <td>0.474031</td>\n",
       "      <td>-0.826669</td>\n",
       "      <td>1.302704</td>\n",
       "      <td>-0.038360</td>\n",
       "    </tr>\n",
       "    <tr>\n",
       "      <th>2</th>\n",
       "      <td>-0.900522</td>\n",
       "      <td>1.191402</td>\n",
       "      <td>-0.193081</td>\n",
       "      <td>-0.495760</td>\n",
       "      <td>1.308798</td>\n",
       "      <td>-1.158699</td>\n",
       "      <td>-0.434070</td>\n",
       "      <td>-0.004835</td>\n",
       "      <td>0.466449</td>\n",
       "      <td>-0.297649</td>\n",
       "      <td>0.060825</td>\n",
       "    </tr>\n",
       "    <tr>\n",
       "      <th>3</th>\n",
       "      <td>-0.942314</td>\n",
       "      <td>-1.138090</td>\n",
       "      <td>1.264619</td>\n",
       "      <td>0.039044</td>\n",
       "      <td>0.394403</td>\n",
       "      <td>0.898011</td>\n",
       "      <td>-1.516688</td>\n",
       "      <td>-0.434394</td>\n",
       "      <td>-0.730167</td>\n",
       "      <td>-0.734906</td>\n",
       "      <td>0.130009</td>\n",
       "    </tr>\n",
       "    <tr>\n",
       "      <th>4</th>\n",
       "      <td>-1.929748</td>\n",
       "      <td>-1.434578</td>\n",
       "      <td>-0.984405</td>\n",
       "      <td>1.102943</td>\n",
       "      <td>0.459296</td>\n",
       "      <td>0.611698</td>\n",
       "      <td>0.333212</td>\n",
       "      <td>-1.448501</td>\n",
       "      <td>-0.347708</td>\n",
       "      <td>0.279139</td>\n",
       "      <td>-0.056541</td>\n",
       "    </tr>\n",
       "    <tr>\n",
       "      <th>...</th>\n",
       "      <td>...</td>\n",
       "      <td>...</td>\n",
       "      <td>...</td>\n",
       "      <td>...</td>\n",
       "      <td>...</td>\n",
       "      <td>...</td>\n",
       "      <td>...</td>\n",
       "      <td>...</td>\n",
       "      <td>...</td>\n",
       "      <td>...</td>\n",
       "      <td>...</td>\n",
       "    </tr>\n",
       "    <tr>\n",
       "      <th>9995</th>\n",
       "      <td>1.897402</td>\n",
       "      <td>0.789544</td>\n",
       "      <td>0.484892</td>\n",
       "      <td>-0.372859</td>\n",
       "      <td>-1.157516</td>\n",
       "      <td>1.016570</td>\n",
       "      <td>-0.920543</td>\n",
       "      <td>-0.197212</td>\n",
       "      <td>0.091115</td>\n",
       "      <td>0.591052</td>\n",
       "      <td>0.081237</td>\n",
       "    </tr>\n",
       "    <tr>\n",
       "      <th>9996</th>\n",
       "      <td>1.434856</td>\n",
       "      <td>-1.508304</td>\n",
       "      <td>2.101618</td>\n",
       "      <td>2.366782</td>\n",
       "      <td>0.867436</td>\n",
       "      <td>1.420222</td>\n",
       "      <td>1.171667</td>\n",
       "      <td>2.015353</td>\n",
       "      <td>1.829908</td>\n",
       "      <td>1.784128</td>\n",
       "      <td>-0.026353</td>\n",
       "    </tr>\n",
       "    <tr>\n",
       "      <th>9997</th>\n",
       "      <td>0.578813</td>\n",
       "      <td>0.799305</td>\n",
       "      <td>-0.693559</td>\n",
       "      <td>0.471070</td>\n",
       "      <td>-1.131182</td>\n",
       "      <td>-1.009988</td>\n",
       "      <td>-0.023901</td>\n",
       "      <td>0.482031</td>\n",
       "      <td>-0.303914</td>\n",
       "      <td>0.032670</td>\n",
       "      <td>-0.086949</td>\n",
       "    </tr>\n",
       "    <tr>\n",
       "      <th>9998</th>\n",
       "      <td>2.002781</td>\n",
       "      <td>-1.589854</td>\n",
       "      <td>1.860081</td>\n",
       "      <td>-0.311399</td>\n",
       "      <td>0.216009</td>\n",
       "      <td>-0.461117</td>\n",
       "      <td>0.605280</td>\n",
       "      <td>1.201074</td>\n",
       "      <td>-0.039065</td>\n",
       "      <td>1.045767</td>\n",
       "      <td>-0.069400</td>\n",
       "    </tr>\n",
       "    <tr>\n",
       "      <th>9999</th>\n",
       "      <td>1.551767</td>\n",
       "      <td>-0.898844</td>\n",
       "      <td>2.112172</td>\n",
       "      <td>-0.290109</td>\n",
       "      <td>-0.341160</td>\n",
       "      <td>-0.632862</td>\n",
       "      <td>-0.120582</td>\n",
       "      <td>-0.414292</td>\n",
       "      <td>-0.790223</td>\n",
       "      <td>0.927587</td>\n",
       "      <td>-0.033821</td>\n",
       "    </tr>\n",
       "  </tbody>\n",
       "</table>\n",
       "<p>10000 rows × 11 columns</p>\n",
       "</div>"
      ],
      "text/plain": [
       "           PC1       PC2       PC3       PC4       PC5       PC6       PC7  \\\n",
       "0    -1.532639  0.119512 -1.562116  0.136206  0.414997 -1.399578  0.191106   \n",
       "1    -1.659019  0.130539  0.638301 -1.375658  0.723705 -1.271899  0.575596   \n",
       "2    -0.900522  1.191402 -0.193081 -0.495760  1.308798 -1.158699 -0.434070   \n",
       "3    -0.942314 -1.138090  1.264619  0.039044  0.394403  0.898011 -1.516688   \n",
       "4    -1.929748 -1.434578 -0.984405  1.102943  0.459296  0.611698  0.333212   \n",
       "...        ...       ...       ...       ...       ...       ...       ...   \n",
       "9995  1.897402  0.789544  0.484892 -0.372859 -1.157516  1.016570 -0.920543   \n",
       "9996  1.434856 -1.508304  2.101618  2.366782  0.867436  1.420222  1.171667   \n",
       "9997  0.578813  0.799305 -0.693559  0.471070 -1.131182 -1.009988 -0.023901   \n",
       "9998  2.002781 -1.589854  1.860081 -0.311399  0.216009 -0.461117  0.605280   \n",
       "9999  1.551767 -0.898844  2.112172 -0.290109 -0.341160 -0.632862 -0.120582   \n",
       "\n",
       "           PC8       PC9      PC10      PC11  \n",
       "0    -0.130913 -0.527627  0.045657 -0.026622  \n",
       "1     0.474031 -0.826669  1.302704 -0.038360  \n",
       "2    -0.004835  0.466449 -0.297649  0.060825  \n",
       "3    -0.434394 -0.730167 -0.734906  0.130009  \n",
       "4    -1.448501 -0.347708  0.279139 -0.056541  \n",
       "...        ...       ...       ...       ...  \n",
       "9995 -0.197212  0.091115  0.591052  0.081237  \n",
       "9996  2.015353  1.829908  1.784128 -0.026353  \n",
       "9997  0.482031 -0.303914  0.032670 -0.086949  \n",
       "9998  1.201074 -0.039065  1.045767 -0.069400  \n",
       "9999 -0.414292 -0.790223  0.927587 -0.033821  \n",
       "\n",
       "[10000 rows x 11 columns]"
      ]
     },
     "execution_count": 5,
     "metadata": {},
     "output_type": "execute_result"
    }
   ],
   "source": [
    "loading = pd.DataFrame(outcomes, columns = ['PC1', 'PC2', 'PC3', 'PC4', 'PC5', 'PC6', 'PC7', 'PC8', 'PC9', 'PC10', 'PC11'])\n",
    "loading"
   ]
  },
  {
   "cell_type": "code",
   "execution_count": 6,
   "id": "e97ecbde-218d-4cdd-8092-46795aa97c46",
   "metadata": {
    "tags": []
   },
   "outputs": [
    {
     "data": {
      "text/plain": [
       "array([1.99436896, 1.05744462, 1.02956846, 1.01874438, 1.00339009,\n",
       "       0.9980171 , 0.9915275 , 0.97889558, 0.96418654, 0.9594893 ,\n",
       "       0.00546758])"
      ]
     },
     "execution_count": 6,
     "metadata": {},
     "output_type": "execute_result"
    }
   ],
   "source": [
    "explained_variance = model.explained_variance_\n",
    "explained_variance"
   ]
  },
  {
   "cell_type": "code",
   "execution_count": 7,
   "id": "e145cd67-70e3-4e3d-aec8-a7cf7b185a40",
   "metadata": {
    "tags": []
   },
   "outputs": [
    {
     "data": {
      "text/plain": [
       "array([0.18128814, 0.09612172, 0.09358777, 0.09260386, 0.09120816,\n",
       "       0.09071975, 0.09012985, 0.08898161, 0.08764456, 0.08721758,\n",
       "       0.000497  ])"
      ]
     },
     "execution_count": 7,
     "metadata": {},
     "output_type": "execute_result"
    }
   ],
   "source": [
    "explained_ratio = model.explained_variance_ratio_\n",
    "explained_ratio"
   ]
  },
  {
   "cell_type": "code",
   "execution_count": 8,
   "id": "546ae5f9-21e4-4290-a746-53e928d88f1d",
   "metadata": {
    "tags": []
   },
   "outputs": [
    {
     "data": {
      "text/html": [
       "<div>\n",
       "<style scoped>\n",
       "    .dataframe tbody tr th:only-of-type {\n",
       "        vertical-align: middle;\n",
       "    }\n",
       "\n",
       "    .dataframe tbody tr th {\n",
       "        vertical-align: top;\n",
       "    }\n",
       "\n",
       "    .dataframe thead th {\n",
       "        text-align: right;\n",
       "    }\n",
       "</style>\n",
       "<table border=\"1\" class=\"dataframe\">\n",
       "  <thead>\n",
       "    <tr style=\"text-align: right;\">\n",
       "      <th></th>\n",
       "      <th>PC with Captured Variance</th>\n",
       "    </tr>\n",
       "  </thead>\n",
       "  <tbody>\n",
       "    <tr>\n",
       "      <th>PC1</th>\n",
       "      <td>18.13</td>\n",
       "    </tr>\n",
       "    <tr>\n",
       "      <th>PC2</th>\n",
       "      <td>9.61</td>\n",
       "    </tr>\n",
       "    <tr>\n",
       "      <th>PC3</th>\n",
       "      <td>9.36</td>\n",
       "    </tr>\n",
       "    <tr>\n",
       "      <th>PC4</th>\n",
       "      <td>9.26</td>\n",
       "    </tr>\n",
       "    <tr>\n",
       "      <th>PC5</th>\n",
       "      <td>9.12</td>\n",
       "    </tr>\n",
       "    <tr>\n",
       "      <th>PC6</th>\n",
       "      <td>9.07</td>\n",
       "    </tr>\n",
       "    <tr>\n",
       "      <th>PC7</th>\n",
       "      <td>9.01</td>\n",
       "    </tr>\n",
       "    <tr>\n",
       "      <th>PC8</th>\n",
       "      <td>8.90</td>\n",
       "    </tr>\n",
       "    <tr>\n",
       "      <th>PC9</th>\n",
       "      <td>8.76</td>\n",
       "    </tr>\n",
       "    <tr>\n",
       "      <th>PC10</th>\n",
       "      <td>8.72</td>\n",
       "    </tr>\n",
       "    <tr>\n",
       "      <th>PC11</th>\n",
       "      <td>0.05</td>\n",
       "    </tr>\n",
       "  </tbody>\n",
       "</table>\n",
       "</div>"
      ],
      "text/plain": [
       "      PC with Captured Variance\n",
       "PC1                       18.13\n",
       "PC2                        9.61\n",
       "PC3                        9.36\n",
       "PC4                        9.26\n",
       "PC5                        9.12\n",
       "PC6                        9.07\n",
       "PC7                        9.01\n",
       "PC8                        8.90\n",
       "PC9                        8.76\n",
       "PC10                       8.72\n",
       "PC11                       0.05"
      ]
     },
     "execution_count": 8,
     "metadata": {},
     "output_type": "execute_result"
    }
   ],
   "source": [
    "var = explained_ratio * 100\n",
    "Kaiser = pd.DataFrame(var.round(2), columns = [\"PC with Captured Variance\"], index = ['PC1', 'PC2', 'PC3', 'PC4', 'PC5', 'PC6', 'PC7', 'PC8', 'PC9', 'PC10', 'PC11'])\n",
    "Kaiser"
   ]
  },
  {
   "cell_type": "code",
   "execution_count": 9,
   "id": "c0c7ce1a-6c76-4147-82b1-9b85fa8c23f0",
   "metadata": {
    "tags": []
   },
   "outputs": [
    {
     "data": {
      "image/png": "[encoded data removed]",
      "text/plain": [
       "<Figure size 1000x800 with 1 Axes>"
      ]
     },
     "metadata": {},
     "output_type": "display_data"
    }
   ],
   "source": [
    "plt.figure(figsize = (10, 8))\n",
    "plt.plot(explained_ratio)\n",
    "plt.title('Scree plot with Elbow')\n",
    "plt.xlabel('Principal Components')\n",
    "plt.ylabel('Explained Variance')\n",
    "plt.show()"
   ]
  },
  {
   "cell_type": "code",
   "execution_count": 10,
   "id": "91f890c0-ab2c-4ed1-84d2-6e78bbc34408",
   "metadata": {
    "tags": []
   },
   "outputs": [
    {
     "name": "stdout",
     "output_type": "stream",
     "text": [
      "Total variance is:  11.001100110010993\n"
     ]
    }
   ],
   "source": [
    "total = sum(explained_variance)\n",
    "print(\"Total variance is: \", total)"
   ]
  },
  {
   "cell_type": "code",
   "execution_count": 20,
   "id": "c3753daf-3e17-46d4-bd53-f2b6d5bdb527",
   "metadata": {
    "tags": []
   },
   "outputs": [
    {
     "name": "stdout",
     "output_type": "stream",
     "text": [
      "Total variance of the two PC's is:  PC with Captured Variance    27.74\n",
      "dtype: float64\n"
     ]
    }
   ],
   "source": [
    "total = Kaiser.loc['PC1':'PC2'].sum()\n",
    "print(\"Total variance of the two PC's is: \", total)"
   ]
  },
  {
   "cell_type": "code",
   "execution_count": 11,
   "id": "0f7053cc-5c5a-46a2-87df-f05d2064dfc0",
   "metadata": {
    "tags": []
   },
   "outputs": [
    {
     "name": "stdout",
     "output_type": "stream",
     "text": [
      "Explained variance for each component:  [1.99436896 1.05744462 1.02956846 1.01874438 1.00339009 0.9980171\n",
      " 0.9915275  0.97889558 0.96418654 0.9594893  0.00546758]\n"
     ]
    }
   ],
   "source": [
    "print(\"Explained variance for each component: \", explained_variance)"
   ]
  },
  {
   "cell_type": "code",
   "execution_count": 23,
   "id": "bacc9b61-9bd7-4761-9109-37e43f2c1e8d",
   "metadata": {
    "tags": []
   },
   "outputs": [
    {
     "name": "stdout",
     "output_type": "stream",
     "text": [
      "The total variance of the two chosen principal components:  27.74\n"
     ]
    }
   ],
   "source": [
    "total = Kaiser.loc[['PC1', 'PC2'], 'PC with Captured Variance'].sum()\n",
    "print(\"The total variance of the two chosen principal components: \", total)"
   ]
  },
  {
   "cell_type": "code",
   "execution_count": null,
   "id": "aa2582fa-b51e-4ec6-846c-6735c1870931",
   "metadata": {},
   "outputs": [],
   "source": []
  }
 ],
 "metadata": {
  "kernelspec": {
   "display_name": "Python 3 (ipykernel)",
   "language": "python",
   "name": "python3"
  },
  "language_info": {
   "codemirror_mode": {
    "name": "ipython",
    "version": 3
   },
   "file_extension": ".py",
   "mimetype": "text/x-python",
   "name": "python",
   "nbconvert_exporter": "python",
   "pygments_lexer": "ipython3",
   "version": "3.8.17"
  }
 },
 "nbformat": 4,
 "nbformat_minor": 5
}
